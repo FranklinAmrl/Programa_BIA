{
 "cells": [
  {
   "cell_type": "code",
   "execution_count": 1,
   "metadata": {},
   "outputs": [],
   "source": [
    "import pandas as pd"
   ]
  },
  {
   "cell_type": "code",
   "execution_count": 2,
   "metadata": {},
   "outputs": [],
   "source": [
    "import numpy as np"
   ]
  },
  {
   "cell_type": "code",
   "execution_count": 3,
   "metadata": {},
   "outputs": [],
   "source": [
    "domicilio01 = pd.read_excel(\"dados_entrada\\Tabelas_2000\\Convertidas\\Domicilio_01_M.xlsx\")"
   ]
  },
  {
   "cell_type": "code",
   "execution_count": 4,
   "metadata": {},
   "outputs": [],
   "source": [
    "resultado = pd.DataFrame({'COD_SETOR': []})"
   ]
  },
  {
   "cell_type": "code",
   "execution_count": 5,
   "metadata": {},
   "outputs": [],
   "source": [
    "def V01(V011,V002):\n",
    "    return (((V011/V002)*100))\n"
   ]
  },
  {
   "cell_type": "code",
   "execution_count": 6,
   "metadata": {},
   "outputs": [],
   "source": [
    "def V02(V013,V014,V015,V002):\n",
    "    return (((V013+V014+V015)/V002)*100)\n",
    "    "
   ]
  },
  {
   "cell_type": "code",
   "execution_count": 7,
   "metadata": {},
   "outputs": [],
   "source": [
    "def V03(V019,V020,V021,V022,V002):\n",
    "    return (((V019+V020+V021+V022)/V002)*100)\n",
    "    "
   ]
  },
  {
   "cell_type": "code",
   "execution_count": 8,
   "metadata": {},
   "outputs": [],
   "source": [
    "def V04(V023,V002):\n",
    "    return ((V023/V002)*100)"
   ]
  },
  {
   "cell_type": "code",
   "execution_count": 9,
   "metadata": {},
   "outputs": [],
   "source": [
    "def V05(V038,V039,V040,V041,V042,V002):\n",
    "    return (((V038+V039+V040+V041+V042)/V002)*100)"
   ]
  },
  {
   "cell_type": "code",
   "execution_count": 11,
   "metadata": {},
   "outputs": [],
   "source": [
    "def V07(V008,V002):\n",
    "    return ((V008/V002)*100)"
   ]
  },
  {
   "cell_type": "code",
   "execution_count": 12,
   "metadata": {},
   "outputs": [],
   "source": [
    "def V08(V054,V055,V056,V057,V058,V059,V002):\n",
    "    return (((V054+V055+V056+V057+V058+V059)/V002)*100)"
   ]
  },
  {
   "cell_type": "code",
   "execution_count": 13,
   "metadata": {},
   "outputs": [],
   "source": [
    "resultado['COD_SETOR'] = domicilio01[\"Cod_setor\"]"
   ]
  },
  {
   "cell_type": "code",
   "execution_count": 15,
   "metadata": {},
   "outputs": [],
   "source": [
    "resultado['V01'] = domicilio01.apply(lambda x: V01(x.V011, x.V002), axis=1)"
   ]
  },
  {
   "cell_type": "code",
   "execution_count": 16,
   "metadata": {},
   "outputs": [],
   "source": [
    "resultado['V02'] = domicilio01.apply(lambda x: V02(x.V013, x.V014, x.V015, x.V002), axis=1)"
   ]
  },
  {
   "cell_type": "code",
   "execution_count": 17,
   "metadata": {},
   "outputs": [],
   "source": [
    "resultado['V03'] = domicilio01.apply(lambda x: V03(x.V019, x.V020, x.V021, x.V022, x.V002), axis=1)"
   ]
  },
  {
   "cell_type": "code",
   "execution_count": 18,
   "metadata": {},
   "outputs": [],
   "source": [
    "resultado['V04'] = domicilio01.apply(lambda x: V04(x.V023, x.V002), axis=1)"
   ]
  },
  {
   "cell_type": "code",
   "execution_count": 19,
   "metadata": {},
   "outputs": [],
   "source": [
    "resultado['V05'] = domicilio01.apply(lambda x: V05(x.V038, x.V039, x.V040, x.V041, x.V042, x.V002), axis=1)"
   ]
  },
  {
   "cell_type": "code",
   "execution_count": 21,
   "metadata": {},
   "outputs": [],
   "source": [
    "resultado['V07'] = domicilio01.apply(lambda x: V07(x.V008, x.V002), axis=1)"
   ]
  },
  {
   "cell_type": "code",
   "execution_count": 22,
   "metadata": {},
   "outputs": [],
   "source": [
    "resultado['V08'] = domicilio01.apply(lambda x: V08(x.V054, x.V055, x.V056, x.V057, x.V058, x.V059, x.V002), axis=1)"
   ]
  },
  {
   "cell_type": "code",
   "execution_count": 23,
   "metadata": {},
   "outputs": [],
   "source": [
    "resultado.to_excel(\"dados_saida\\Resultado_2000\\excel\\ResultadoGeral.xlsx\",index=False)"
   ]
  },
  {
   "cell_type": "code",
   "execution_count": 24,
   "metadata": {},
   "outputs": [],
   "source": [
    "resultado.to_csv(\"dados_saida\\Resultado_2000\\csv\\ResultadoGeral.csv\",index=False)"
   ]
  },
  {
   "cell_type": "code",
   "execution_count": 25,
   "metadata": {},
   "outputs": [
    {
     "data": {
      "text/html": [
       "<div>\n",
       "<style scoped>\n",
       "    .dataframe tbody tr th:only-of-type {\n",
       "        vertical-align: middle;\n",
       "    }\n",
       "\n",
       "    .dataframe tbody tr th {\n",
       "        vertical-align: top;\n",
       "    }\n",
       "\n",
       "    .dataframe thead th {\n",
       "        text-align: right;\n",
       "    }\n",
       "</style>\n",
       "<table border=\"1\" class=\"dataframe\">\n",
       "  <thead>\n",
       "    <tr style=\"text-align: right;\">\n",
       "      <th></th>\n",
       "      <th>COD_SETOR</th>\n",
       "      <th>V01</th>\n",
       "      <th>V02</th>\n",
       "      <th>V03</th>\n",
       "      <th>V04</th>\n",
       "      <th>V05</th>\n",
       "      <th>V07</th>\n",
       "      <th>V08</th>\n",
       "    </tr>\n",
       "  </thead>\n",
       "  <tbody>\n",
       "    <tr>\n",
       "      <th>0</th>\n",
       "      <td>260005405000001</td>\n",
       "      <td>0.000000</td>\n",
       "      <td>1.990050</td>\n",
       "      <td>90.547264</td>\n",
       "      <td>2.487562</td>\n",
       "      <td>15.920398</td>\n",
       "      <td>14.925373</td>\n",
       "      <td>28.855721</td>\n",
       "    </tr>\n",
       "    <tr>\n",
       "      <th>1</th>\n",
       "      <td>260005405000002</td>\n",
       "      <td>0.882353</td>\n",
       "      <td>6.470588</td>\n",
       "      <td>90.294118</td>\n",
       "      <td>3.235294</td>\n",
       "      <td>11.176471</td>\n",
       "      <td>15.882353</td>\n",
       "      <td>30.294118</td>\n",
       "    </tr>\n",
       "    <tr>\n",
       "      <th>2</th>\n",
       "      <td>260005405000003</td>\n",
       "      <td>0.000000</td>\n",
       "      <td>12.735849</td>\n",
       "      <td>83.962264</td>\n",
       "      <td>4.245283</td>\n",
       "      <td>16.981132</td>\n",
       "      <td>19.811321</td>\n",
       "      <td>32.783019</td>\n",
       "    </tr>\n",
       "    <tr>\n",
       "      <th>3</th>\n",
       "      <td>260005405000004</td>\n",
       "      <td>0.666667</td>\n",
       "      <td>3.777778</td>\n",
       "      <td>94.666667</td>\n",
       "      <td>2.222222</td>\n",
       "      <td>16.000000</td>\n",
       "      <td>30.888889</td>\n",
       "      <td>19.777778</td>\n",
       "    </tr>\n",
       "    <tr>\n",
       "      <th>4</th>\n",
       "      <td>260005405000005</td>\n",
       "      <td>0.737101</td>\n",
       "      <td>5.159705</td>\n",
       "      <td>96.805897</td>\n",
       "      <td>2.457002</td>\n",
       "      <td>0.737101</td>\n",
       "      <td>23.832924</td>\n",
       "      <td>24.570025</td>\n",
       "    </tr>\n",
       "    <tr>\n",
       "      <th>...</th>\n",
       "      <td>...</td>\n",
       "      <td>...</td>\n",
       "      <td>...</td>\n",
       "      <td>...</td>\n",
       "      <td>...</td>\n",
       "      <td>...</td>\n",
       "      <td>...</td>\n",
       "      <td>...</td>\n",
       "    </tr>\n",
       "    <tr>\n",
       "      <th>8553</th>\n",
       "      <td>261650605000013</td>\n",
       "      <td>0.000000</td>\n",
       "      <td>69.934641</td>\n",
       "      <td>66.666667</td>\n",
       "      <td>20.915033</td>\n",
       "      <td>31.372549</td>\n",
       "      <td>5.228758</td>\n",
       "      <td>47.058824</td>\n",
       "    </tr>\n",
       "    <tr>\n",
       "      <th>8554</th>\n",
       "      <td>261650605000014</td>\n",
       "      <td>0.000000</td>\n",
       "      <td>101.020408</td>\n",
       "      <td>17.346939</td>\n",
       "      <td>81.632653</td>\n",
       "      <td>100.000000</td>\n",
       "      <td>2.040816</td>\n",
       "      <td>48.979592</td>\n",
       "    </tr>\n",
       "    <tr>\n",
       "      <th>8555</th>\n",
       "      <td>261650605000015</td>\n",
       "      <td>0.000000</td>\n",
       "      <td>100.000000</td>\n",
       "      <td>66.666667</td>\n",
       "      <td>33.333333</td>\n",
       "      <td>100.000000</td>\n",
       "      <td>0.000000</td>\n",
       "      <td>50.000000</td>\n",
       "    </tr>\n",
       "    <tr>\n",
       "      <th>8556</th>\n",
       "      <td>261650605000016</td>\n",
       "      <td>2.702703</td>\n",
       "      <td>147.747748</td>\n",
       "      <td>16.216216</td>\n",
       "      <td>83.783784</td>\n",
       "      <td>100.000000</td>\n",
       "      <td>0.000000</td>\n",
       "      <td>44.144144</td>\n",
       "    </tr>\n",
       "    <tr>\n",
       "      <th>8557</th>\n",
       "      <td>261650605000017</td>\n",
       "      <td>0.000000</td>\n",
       "      <td>144.000000</td>\n",
       "      <td>22.000000</td>\n",
       "      <td>77.000000</td>\n",
       "      <td>100.000000</td>\n",
       "      <td>0.000000</td>\n",
       "      <td>36.000000</td>\n",
       "    </tr>\n",
       "  </tbody>\n",
       "</table>\n",
       "<p>8558 rows × 8 columns</p>\n",
       "</div>"
      ],
      "text/plain": [
       "            COD_SETOR       V01         V02        V03        V04         V05  \\\n",
       "0     260005405000001  0.000000    1.990050  90.547264   2.487562   15.920398   \n",
       "1     260005405000002  0.882353    6.470588  90.294118   3.235294   11.176471   \n",
       "2     260005405000003  0.000000   12.735849  83.962264   4.245283   16.981132   \n",
       "3     260005405000004  0.666667    3.777778  94.666667   2.222222   16.000000   \n",
       "4     260005405000005  0.737101    5.159705  96.805897   2.457002    0.737101   \n",
       "...               ...       ...         ...        ...        ...         ...   \n",
       "8553  261650605000013  0.000000   69.934641  66.666667  20.915033   31.372549   \n",
       "8554  261650605000014  0.000000  101.020408  17.346939  81.632653  100.000000   \n",
       "8555  261650605000015  0.000000  100.000000  66.666667  33.333333  100.000000   \n",
       "8556  261650605000016  2.702703  147.747748  16.216216  83.783784  100.000000   \n",
       "8557  261650605000017  0.000000  144.000000  22.000000  77.000000  100.000000   \n",
       "\n",
       "            V07        V08  \n",
       "0     14.925373  28.855721  \n",
       "1     15.882353  30.294118  \n",
       "2     19.811321  32.783019  \n",
       "3     30.888889  19.777778  \n",
       "4     23.832924  24.570025  \n",
       "...         ...        ...  \n",
       "8553   5.228758  47.058824  \n",
       "8554   2.040816  48.979592  \n",
       "8555   0.000000  50.000000  \n",
       "8556   0.000000  44.144144  \n",
       "8557   0.000000  36.000000  \n",
       "\n",
       "[8558 rows x 8 columns]"
      ]
     },
     "execution_count": 25,
     "metadata": {},
     "output_type": "execute_result"
    }
   ],
   "source": [
    "resultado"
   ]
  },
  {
   "cell_type": "code",
   "execution_count": null,
   "metadata": {},
   "outputs": [],
   "source": []
  }
 ],
 "metadata": {
  "kernelspec": {
   "display_name": "Python 3",
   "language": "python",
   "name": "python3"
  },
  "language_info": {
   "codemirror_mode": {
    "name": "ipython",
    "version": 3
   },
   "file_extension": ".py",
   "mimetype": "text/x-python",
   "name": "python",
   "nbconvert_exporter": "python",
   "pygments_lexer": "ipython3",
   "version": "3.7.6"
  }
 },
 "nbformat": 4,
 "nbformat_minor": 4
}
