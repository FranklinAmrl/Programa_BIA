{
 "cells": [
  {
   "cell_type": "code",
   "execution_count": 164,
   "metadata": {},
   "outputs": [],
   "source": [
    "import pandas as pd"
   ]
  },
  {
   "cell_type": "code",
   "execution_count": 165,
   "metadata": {},
   "outputs": [],
   "source": [
    "import numpy as np"
   ]
  },
  {
   "cell_type": "code",
   "execution_count": 166,
   "metadata": {},
   "outputs": [],
   "source": [
    "domicilio01 = pd.read_excel(\"dados_entrada\\Tabelas_2010\\Domicilio_01_M.xlsx\")"
   ]
  },
  {
   "cell_type": "code",
   "execution_count": 167,
   "metadata": {},
   "outputs": [],
   "source": [
    "resultado = pd.DataFrame({'COD_SETOR': [] ,'SITUAÇÃO_SETOR' : [] })"
   ]
  },
  {
   "cell_type": "code",
   "execution_count": 168,
   "metadata": {},
   "outputs": [],
   "source": [
    "def V01(V011,V002):\n",
    "    return (((V011/V002)*100))\n"
   ]
  },
  {
   "cell_type": "code",
   "execution_count": 169,
   "metadata": {},
   "outputs": [],
   "source": [
    "def V02(V013,V014,V015,V002):\n",
    "    return (((V013+V014+V015)/V002)*100)\n",
    "    "
   ]
  },
  {
   "cell_type": "code",
   "execution_count": 170,
   "metadata": {},
   "outputs": [],
   "source": [
    "def V03(V019,V020,V021,V022,V002):\n",
    "    return (((V019+V020+V021+V022)/V002)*100)\n",
    "    "
   ]
  },
  {
   "cell_type": "code",
   "execution_count": 171,
   "metadata": {},
   "outputs": [],
   "source": [
    "def V04(V023,V002):\n",
    "    return ((V023/V002)*100)"
   ]
  },
  {
   "cell_type": "code",
   "execution_count": 172,
   "metadata": {},
   "outputs": [],
   "source": [
    "def V05(V038,V039,V040,V041,V042,V002):\n",
    "    return (((V038+V039+V040+V041+V042)/V002)*100)"
   ]
  },
  {
   "cell_type": "code",
   "execution_count": 173,
   "metadata": {},
   "outputs": [],
   "source": [
    "def V06(V046,V002):\n",
    "    return ((V046/V002)*100)"
   ]
  },
  {
   "cell_type": "code",
   "execution_count": 174,
   "metadata": {},
   "outputs": [],
   "source": [
    "def V07(V008,V002):\n",
    "    return ((V008/V002)*100)"
   ]
  },
  {
   "cell_type": "code",
   "execution_count": 175,
   "metadata": {},
   "outputs": [],
   "source": [
    "def V08(V054,V055,V056,V057,V058,V059,V002):\n",
    "    return (((V054+V055+V056+V057+V058+V059)/V002)*100)"
   ]
  },
  {
   "cell_type": "code",
   "execution_count": 176,
   "metadata": {},
   "outputs": [],
   "source": [
    "resultado['COD_SETOR'] = domicilio01[\"Cod_setor\"]"
   ]
  },
  {
   "cell_type": "code",
   "execution_count": 177,
   "metadata": {},
   "outputs": [],
   "source": [
    "resultado['SITUAÇÃO_SETOR'] = domicilio01[\"Situacao_setor\"]"
   ]
  },
  {
   "cell_type": "code",
   "execution_count": 178,
   "metadata": {},
   "outputs": [],
   "source": [
    "resultado['V01'] = domicilio01.apply(lambda x: V01(x.V011, x.V002), axis=1)"
   ]
  },
  {
   "cell_type": "code",
   "execution_count": 179,
   "metadata": {},
   "outputs": [],
   "source": [
    "resultado['V02'] = domicilio01.apply(lambda x: V02(x.V013, x.V014, x.V015, x.V002), axis=1)"
   ]
  },
  {
   "cell_type": "code",
   "execution_count": 180,
   "metadata": {},
   "outputs": [],
   "source": [
    "resultado['V03'] = domicilio01.apply(lambda x: V03(x.V019, x.V020, x.V021, x.V022, x.V002), axis=1)"
   ]
  },
  {
   "cell_type": "code",
   "execution_count": 181,
   "metadata": {},
   "outputs": [],
   "source": [
    "resultado['V04'] = domicilio01.apply(lambda x: V04(x.V023, x.V002), axis=1)"
   ]
  },
  {
   "cell_type": "code",
   "execution_count": 182,
   "metadata": {},
   "outputs": [],
   "source": [
    "resultado['V05'] = domicilio01.apply(lambda x: V05(x.V038, x.V039, x.V040, x.V041, x.V042, x.V002), axis=1)"
   ]
  },
  {
   "cell_type": "code",
   "execution_count": 183,
   "metadata": {},
   "outputs": [],
   "source": [
    "resultado['V06'] = domicilio01.apply(lambda x: V06(x.V046, x.V002), axis=1)"
   ]
  },
  {
   "cell_type": "code",
   "execution_count": 184,
   "metadata": {},
   "outputs": [],
   "source": [
    "resultado['V07'] = domicilio01.apply(lambda x: V07(x.V008, x.V002), axis=1)"
   ]
  },
  {
   "cell_type": "code",
   "execution_count": 185,
   "metadata": {},
   "outputs": [],
   "source": [
    "resultado['V08'] = domicilio01.apply(lambda x: V08(x.V054, x.V055, x.V056, x.V057, x.V058, x.V059, x.V002), axis=1)"
   ]
  },
  {
   "cell_type": "code",
   "execution_count": 186,
   "metadata": {},
   "outputs": [],
   "source": [
    "resultado.to_excel(\"dados_saida\\Resultado_2010\\excel\\ResultadoGeral.xlsx\",index=False)"
   ]
  },
  {
   "cell_type": "code",
   "execution_count": 187,
   "metadata": {},
   "outputs": [],
   "source": [
    "resultado.to_csv(\"dados_saida\\Resultado_2010\\csv\\ResultadoGeral.csv\",index=False)"
   ]
  },
  {
   "cell_type": "code",
   "execution_count": 188,
   "metadata": {},
   "outputs": [
    {
     "data": {
      "text/html": [
       "<div>\n",
       "<style scoped>\n",
       "    .dataframe tbody tr th:only-of-type {\n",
       "        vertical-align: middle;\n",
       "    }\n",
       "\n",
       "    .dataframe tbody tr th {\n",
       "        vertical-align: top;\n",
       "    }\n",
       "\n",
       "    .dataframe thead th {\n",
       "        text-align: right;\n",
       "    }\n",
       "</style>\n",
       "<table border=\"1\" class=\"dataframe\">\n",
       "  <thead>\n",
       "    <tr style=\"text-align: right;\">\n",
       "      <th></th>\n",
       "      <th>COD_SETOR</th>\n",
       "      <th>SITUAÇÃO_SETOR</th>\n",
       "      <th>V01</th>\n",
       "      <th>V02</th>\n",
       "      <th>V03</th>\n",
       "      <th>V04</th>\n",
       "      <th>V05</th>\n",
       "      <th>V06</th>\n",
       "      <th>V07</th>\n",
       "      <th>V08</th>\n",
       "    </tr>\n",
       "  </thead>\n",
       "  <tbody>\n",
       "    <tr>\n",
       "      <th>0</th>\n",
       "      <td>261160605220010</td>\n",
       "      <td>1</td>\n",
       "      <td>0.000000</td>\n",
       "      <td>0.505051</td>\n",
       "      <td>0.505051</td>\n",
       "      <td>0.000000</td>\n",
       "      <td>0.000000</td>\n",
       "      <td>0.000000</td>\n",
       "      <td>22.727273</td>\n",
       "      <td>17.676768</td>\n",
       "    </tr>\n",
       "    <tr>\n",
       "      <th>1</th>\n",
       "      <td>261160605220011</td>\n",
       "      <td>1</td>\n",
       "      <td>0.000000</td>\n",
       "      <td>2.786378</td>\n",
       "      <td>48.297214</td>\n",
       "      <td>0.000000</td>\n",
       "      <td>0.000000</td>\n",
       "      <td>0.000000</td>\n",
       "      <td>29.411765</td>\n",
       "      <td>13.312693</td>\n",
       "    </tr>\n",
       "    <tr>\n",
       "      <th>2</th>\n",
       "      <td>261160605220012</td>\n",
       "      <td>1</td>\n",
       "      <td>0.000000</td>\n",
       "      <td>31.395349</td>\n",
       "      <td>16.279070</td>\n",
       "      <td>0.581395</td>\n",
       "      <td>1.162791</td>\n",
       "      <td>0.000000</td>\n",
       "      <td>13.953488</td>\n",
       "      <td>20.930233</td>\n",
       "    </tr>\n",
       "    <tr>\n",
       "      <th>3</th>\n",
       "      <td>261160605220013</td>\n",
       "      <td>1</td>\n",
       "      <td>0.000000</td>\n",
       "      <td>0.275482</td>\n",
       "      <td>0.275482</td>\n",
       "      <td>0.826446</td>\n",
       "      <td>0.000000</td>\n",
       "      <td>0.275482</td>\n",
       "      <td>13.223140</td>\n",
       "      <td>24.242424</td>\n",
       "    </tr>\n",
       "    <tr>\n",
       "      <th>4</th>\n",
       "      <td>261160605220014</td>\n",
       "      <td>1</td>\n",
       "      <td>0.000000</td>\n",
       "      <td>0.000000</td>\n",
       "      <td>2.144772</td>\n",
       "      <td>0.000000</td>\n",
       "      <td>0.268097</td>\n",
       "      <td>0.536193</td>\n",
       "      <td>26.005362</td>\n",
       "      <td>22.520107</td>\n",
       "    </tr>\n",
       "    <tr>\n",
       "      <th>5</th>\n",
       "      <td>261160605220015</td>\n",
       "      <td>1</td>\n",
       "      <td>0.964630</td>\n",
       "      <td>5.466238</td>\n",
       "      <td>0.964630</td>\n",
       "      <td>0.000000</td>\n",
       "      <td>0.000000</td>\n",
       "      <td>0.000000</td>\n",
       "      <td>13.826367</td>\n",
       "      <td>28.295820</td>\n",
       "    </tr>\n",
       "    <tr>\n",
       "      <th>6</th>\n",
       "      <td>261160605220016</td>\n",
       "      <td>1</td>\n",
       "      <td>0.000000</td>\n",
       "      <td>3.414634</td>\n",
       "      <td>88.780488</td>\n",
       "      <td>2.439024</td>\n",
       "      <td>0.000000</td>\n",
       "      <td>0.000000</td>\n",
       "      <td>18.048780</td>\n",
       "      <td>27.804878</td>\n",
       "    </tr>\n",
       "    <tr>\n",
       "      <th>7</th>\n",
       "      <td>261160605220017</td>\n",
       "      <td>1</td>\n",
       "      <td>0.000000</td>\n",
       "      <td>0.000000</td>\n",
       "      <td>0.000000</td>\n",
       "      <td>1.960784</td>\n",
       "      <td>0.000000</td>\n",
       "      <td>0.000000</td>\n",
       "      <td>22.549020</td>\n",
       "      <td>21.078431</td>\n",
       "    </tr>\n",
       "    <tr>\n",
       "      <th>8</th>\n",
       "      <td>261160605220018</td>\n",
       "      <td>1</td>\n",
       "      <td>2.243590</td>\n",
       "      <td>0.641026</td>\n",
       "      <td>4.166667</td>\n",
       "      <td>0.320513</td>\n",
       "      <td>0.000000</td>\n",
       "      <td>0.320513</td>\n",
       "      <td>26.602564</td>\n",
       "      <td>18.589744</td>\n",
       "    </tr>\n",
       "    <tr>\n",
       "      <th>9</th>\n",
       "      <td>261160605220019</td>\n",
       "      <td>1</td>\n",
       "      <td>0.000000</td>\n",
       "      <td>2.475248</td>\n",
       "      <td>0.000000</td>\n",
       "      <td>0.000000</td>\n",
       "      <td>0.000000</td>\n",
       "      <td>0.000000</td>\n",
       "      <td>31.683168</td>\n",
       "      <td>20.297030</td>\n",
       "    </tr>\n",
       "    <tr>\n",
       "      <th>10</th>\n",
       "      <td>261160605220020</td>\n",
       "      <td>1</td>\n",
       "      <td>0.000000</td>\n",
       "      <td>2.460850</td>\n",
       "      <td>16.778523</td>\n",
       "      <td>0.671141</td>\n",
       "      <td>0.000000</td>\n",
       "      <td>0.894855</td>\n",
       "      <td>19.463087</td>\n",
       "      <td>19.686801</td>\n",
       "    </tr>\n",
       "    <tr>\n",
       "      <th>11</th>\n",
       "      <td>261160605220021</td>\n",
       "      <td>1</td>\n",
       "      <td>0.000000</td>\n",
       "      <td>2.244389</td>\n",
       "      <td>3.990025</td>\n",
       "      <td>0.000000</td>\n",
       "      <td>0.000000</td>\n",
       "      <td>0.000000</td>\n",
       "      <td>28.428928</td>\n",
       "      <td>18.703242</td>\n",
       "    </tr>\n",
       "    <tr>\n",
       "      <th>12</th>\n",
       "      <td>261160605220022</td>\n",
       "      <td>1</td>\n",
       "      <td>0.000000</td>\n",
       "      <td>1.047120</td>\n",
       "      <td>0.000000</td>\n",
       "      <td>0.000000</td>\n",
       "      <td>0.000000</td>\n",
       "      <td>0.000000</td>\n",
       "      <td>20.942408</td>\n",
       "      <td>18.324607</td>\n",
       "    </tr>\n",
       "    <tr>\n",
       "      <th>13</th>\n",
       "      <td>261160605220023</td>\n",
       "      <td>1</td>\n",
       "      <td>0.000000</td>\n",
       "      <td>0.000000</td>\n",
       "      <td>52.702703</td>\n",
       "      <td>0.270270</td>\n",
       "      <td>0.000000</td>\n",
       "      <td>0.000000</td>\n",
       "      <td>24.594595</td>\n",
       "      <td>16.756757</td>\n",
       "    </tr>\n",
       "    <tr>\n",
       "      <th>14</th>\n",
       "      <td>261160605220024</td>\n",
       "      <td>1</td>\n",
       "      <td>0.000000</td>\n",
       "      <td>4.929577</td>\n",
       "      <td>37.793427</td>\n",
       "      <td>1.173709</td>\n",
       "      <td>5.164319</td>\n",
       "      <td>0.000000</td>\n",
       "      <td>24.413146</td>\n",
       "      <td>18.309859</td>\n",
       "    </tr>\n",
       "    <tr>\n",
       "      <th>15</th>\n",
       "      <td>261160605220025</td>\n",
       "      <td>1</td>\n",
       "      <td>0.000000</td>\n",
       "      <td>0.000000</td>\n",
       "      <td>40.452261</td>\n",
       "      <td>0.000000</td>\n",
       "      <td>0.000000</td>\n",
       "      <td>0.000000</td>\n",
       "      <td>16.582915</td>\n",
       "      <td>15.075377</td>\n",
       "    </tr>\n",
       "    <tr>\n",
       "      <th>16</th>\n",
       "      <td>261160605220026</td>\n",
       "      <td>1</td>\n",
       "      <td>1.714286</td>\n",
       "      <td>2.000000</td>\n",
       "      <td>4.000000</td>\n",
       "      <td>0.285714</td>\n",
       "      <td>0.000000</td>\n",
       "      <td>0.000000</td>\n",
       "      <td>19.428571</td>\n",
       "      <td>18.285714</td>\n",
       "    </tr>\n",
       "    <tr>\n",
       "      <th>17</th>\n",
       "      <td>261160605220027</td>\n",
       "      <td>1</td>\n",
       "      <td>0.000000</td>\n",
       "      <td>0.000000</td>\n",
       "      <td>1.171875</td>\n",
       "      <td>0.000000</td>\n",
       "      <td>0.000000</td>\n",
       "      <td>0.000000</td>\n",
       "      <td>30.078125</td>\n",
       "      <td>16.406250</td>\n",
       "    </tr>\n",
       "    <tr>\n",
       "      <th>18</th>\n",
       "      <td>261160605220028</td>\n",
       "      <td>1</td>\n",
       "      <td>0.000000</td>\n",
       "      <td>0.000000</td>\n",
       "      <td>7.037037</td>\n",
       "      <td>0.000000</td>\n",
       "      <td>0.000000</td>\n",
       "      <td>0.000000</td>\n",
       "      <td>15.925926</td>\n",
       "      <td>19.259259</td>\n",
       "    </tr>\n",
       "    <tr>\n",
       "      <th>19</th>\n",
       "      <td>261160605220029</td>\n",
       "      <td>1</td>\n",
       "      <td>0.000000</td>\n",
       "      <td>0.349650</td>\n",
       "      <td>2.097902</td>\n",
       "      <td>0.000000</td>\n",
       "      <td>0.000000</td>\n",
       "      <td>0.000000</td>\n",
       "      <td>22.027972</td>\n",
       "      <td>17.482517</td>\n",
       "    </tr>\n",
       "  </tbody>\n",
       "</table>\n",
       "</div>"
      ],
      "text/plain": [
       "          COD_SETOR  SITUAÇÃO_SETOR       V01        V02        V03       V04  \\\n",
       "0   261160605220010               1  0.000000   0.505051   0.505051  0.000000   \n",
       "1   261160605220011               1  0.000000   2.786378  48.297214  0.000000   \n",
       "2   261160605220012               1  0.000000  31.395349  16.279070  0.581395   \n",
       "3   261160605220013               1  0.000000   0.275482   0.275482  0.826446   \n",
       "4   261160605220014               1  0.000000   0.000000   2.144772  0.000000   \n",
       "5   261160605220015               1  0.964630   5.466238   0.964630  0.000000   \n",
       "6   261160605220016               1  0.000000   3.414634  88.780488  2.439024   \n",
       "7   261160605220017               1  0.000000   0.000000   0.000000  1.960784   \n",
       "8   261160605220018               1  2.243590   0.641026   4.166667  0.320513   \n",
       "9   261160605220019               1  0.000000   2.475248   0.000000  0.000000   \n",
       "10  261160605220020               1  0.000000   2.460850  16.778523  0.671141   \n",
       "11  261160605220021               1  0.000000   2.244389   3.990025  0.000000   \n",
       "12  261160605220022               1  0.000000   1.047120   0.000000  0.000000   \n",
       "13  261160605220023               1  0.000000   0.000000  52.702703  0.270270   \n",
       "14  261160605220024               1  0.000000   4.929577  37.793427  1.173709   \n",
       "15  261160605220025               1  0.000000   0.000000  40.452261  0.000000   \n",
       "16  261160605220026               1  1.714286   2.000000   4.000000  0.285714   \n",
       "17  261160605220027               1  0.000000   0.000000   1.171875  0.000000   \n",
       "18  261160605220028               1  0.000000   0.000000   7.037037  0.000000   \n",
       "19  261160605220029               1  0.000000   0.349650   2.097902  0.000000   \n",
       "\n",
       "         V05       V06        V07        V08  \n",
       "0   0.000000  0.000000  22.727273  17.676768  \n",
       "1   0.000000  0.000000  29.411765  13.312693  \n",
       "2   1.162791  0.000000  13.953488  20.930233  \n",
       "3   0.000000  0.275482  13.223140  24.242424  \n",
       "4   0.268097  0.536193  26.005362  22.520107  \n",
       "5   0.000000  0.000000  13.826367  28.295820  \n",
       "6   0.000000  0.000000  18.048780  27.804878  \n",
       "7   0.000000  0.000000  22.549020  21.078431  \n",
       "8   0.000000  0.320513  26.602564  18.589744  \n",
       "9   0.000000  0.000000  31.683168  20.297030  \n",
       "10  0.000000  0.894855  19.463087  19.686801  \n",
       "11  0.000000  0.000000  28.428928  18.703242  \n",
       "12  0.000000  0.000000  20.942408  18.324607  \n",
       "13  0.000000  0.000000  24.594595  16.756757  \n",
       "14  5.164319  0.000000  24.413146  18.309859  \n",
       "15  0.000000  0.000000  16.582915  15.075377  \n",
       "16  0.000000  0.000000  19.428571  18.285714  \n",
       "17  0.000000  0.000000  30.078125  16.406250  \n",
       "18  0.000000  0.000000  15.925926  19.259259  \n",
       "19  0.000000  0.000000  22.027972  17.482517  "
      ]
     },
     "execution_count": 188,
     "metadata": {},
     "output_type": "execute_result"
    }
   ],
   "source": [
    "resultado"
   ]
  },
  {
   "cell_type": "code",
   "execution_count": null,
   "metadata": {},
   "outputs": [],
   "source": []
  },
  {
   "cell_type": "code",
   "execution_count": null,
   "metadata": {},
   "outputs": [],
   "source": []
  }
 ],
 "metadata": {
  "kernelspec": {
   "display_name": "Python 3",
   "language": "python",
   "name": "python3"
  },
  "language_info": {
   "codemirror_mode": {
    "name": "ipython",
    "version": 3
   },
   "file_extension": ".py",
   "mimetype": "text/x-python",
   "name": "python",
   "nbconvert_exporter": "python",
   "pygments_lexer": "ipython3",
   "version": "3.7.6"
  }
 },
 "nbformat": 4,
 "nbformat_minor": 4
}
