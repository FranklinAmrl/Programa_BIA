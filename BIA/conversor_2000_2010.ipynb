{
 "cells": [
  {
   "cell_type": "code",
   "execution_count": 77,
   "metadata": {},
   "outputs": [],
   "source": [
    "import pandas as pd"
   ]
  },
  {
   "cell_type": "code",
   "execution_count": 78,
   "metadata": {},
   "outputs": [],
   "source": [
    "import numpy as np"
   ]
  },
  {
   "cell_type": "code",
   "execution_count": 79,
   "metadata": {},
   "outputs": [
    {
     "name": "stdout",
     "output_type": "stream",
     "text": [
      "WARNING *** OLE2 inconsistency: SSCS size is 0 but SSAT size is non-zero\n"
     ]
    }
   ],
   "source": [
    "domicilio = pd.read_excel(\"dados_entrada\\Tabelas_2000\\Domicilio_PE.XLS\",index=False,  skiprows=9307 nrows=9327)"
   ]
  },
  {
   "cell_type": "code",
   "execution_count": 80,
   "metadata": {},
   "outputs": [
    {
     "name": "stdout",
     "output_type": "stream",
     "text": [
      "WARNING *** OLE2 inconsistency: SSCS size is 0 but SSAT size is non-zero\n"
     ]
    }
   ],
   "source": [
    "responsavel2 = pd.read_excel(\"dados_entrada\\Tabelas_2000\\Responsavel1_PE.XLS\",index=False)"
   ]
  },
  {
   "cell_type": "code",
   "execution_count": 81,
   "metadata": {},
   "outputs": [
    {
     "name": "stdout",
     "output_type": "stream",
     "text": [
      "WARNING *** OLE2 inconsistency: SSCS size is 0 but SSAT size is non-zero\n"
     ]
    }
   ],
   "source": [
    "responsavel21 = pd.read_excel(\"dados_entrada\\Tabelas_2000\\Responsavel4_PE.XLS\",index=False)"
   ]
  },
  {
   "cell_type": "code",
   "execution_count": 82,
   "metadata": {},
   "outputs": [
    {
     "name": "stdout",
     "output_type": "stream",
     "text": [
      "WARNING *** OLE2 inconsistency: SSCS size is 0 but SSAT size is non-zero\n"
     ]
    }
   ],
   "source": [
    "responsavel1 = pd.read_excel(\"dados_entrada\\Tabelas_2000\\Responsavel5_PE.XLS\",index=False)"
   ]
  },
  {
   "cell_type": "code",
   "execution_count": 83,
   "metadata": {},
   "outputs": [
    {
     "name": "stdout",
     "output_type": "stream",
     "text": [
      "WARNING *** OLE2 inconsistency: SSCS size is 0 but SSAT size is non-zero\n"
     ]
    }
   ],
   "source": [
    "pessoa1 = pd.read_excel(\"dados_entrada\\Tabelas_2000\\Pessoa1_PE.XLS\",index=False)"
   ]
  },
  {
   "cell_type": "code",
   "execution_count": 84,
   "metadata": {},
   "outputs": [],
   "source": [
    "domicilio01 = pd.DataFrame({'Cod_setor':domicilio['Cod_setor'],'V002': domicilio['V0003'], 'V011': domicilio['V0014'], 'V013': domicilio['V0021'], 'V014': domicilio['V0025'], 'V015': domicilio['V0025'], 'V019': domicilio['V0032'], 'V020': domicilio['V0033'], 'V021': domicilio['V0034'], 'V022': domicilio['V0035'], 'V023': domicilio['V0036'], 'V038': domicilio['V0051'], 'V039': domicilio['V0052'], 'V040': domicilio['V0053'], 'V041': domicilio['V0054'], 'V042': domicilio['V0055'], 'V008': domicilio['V0011'], 'V054': domicilio['V0060'], 'V055': domicilio['V0061'], 'V056': domicilio['V0062'], 'V057': domicilio['V0063'], 'V058': domicilio['V0064'], 'V059': domicilio['V0065']})"
   ]
  },
  {
   "cell_type": "code",
   "execution_count": 85,
   "metadata": {},
   "outputs": [],
   "source": [
    "responsavel02 = pd.DataFrame({'Cod_setor':responsavel2['Cod_setor'],'V001': responsavel2['V0402'],'V002': responsavel2['V0403'], 'V003': responsavel2['V0404'], 'V004': responsavel2['V0405'], 'V005': responsavel2['V0406'], 'V006': responsavel2['V0407'], 'V007': responsavel2['V0408'], 'V008': responsavel2['V0409'], 'V009': responsavel2['V0410'], 'V010': responsavel2['V0411'], 'V011': responsavel2['V0412'], 'V057': responsavel2['V0458'], 'V058': responsavel2['V0459'], 'V059': responsavel2['V0460'], 'V060': responsavel2['V0461'], 'V061': responsavel2['V0462'], 'V062': responsavel2['V0463'], 'V063': responsavel2['V0464'], 'V064': responsavel2['V0465'], 'V065': responsavel2['V0466'], 'V066': responsavel2['V0467'], 'V067': responsavel2['V0468'], 'V068': responsavel2['V0469'], 'V069': responsavel2['V0470'], 'V070': responsavel2['V0471'], 'V071': responsavel2['V0472'], 'V072': responsavel2['V0473'], 'V073': responsavel2['V0474'], 'V074': responsavel2['V0475'], 'V075': responsavel2['V0476'], 'V076': responsavel2['V0477'], 'V077': responsavel2['V0478'], 'V078': responsavel2['V0479'], 'V079': responsavel2['V0480'], 'V080': responsavel2['V0481'], 'V081': responsavel2['V0482'], 'V082': responsavel2['V0483'], 'V083': responsavel2['V0484'], 'V084': responsavel2['V0485'], 'V085': responsavel2['V0486'], 'V086': responsavel2['V0487'], 'V087': responsavel2['V0488'], 'V088': responsavel2['V0489'], 'V089': responsavel2['V0490'], 'V090': responsavel2['V0491'], 'V091': responsavel2['V0492'], 'V092': responsavel2['V0493'], 'V093': responsavel2['V0509'], 'V110': responsavel21['V0947'], 'V111': responsavel21['V0948'], 'V112': responsavel21['V0949'], 'V113': responsavel21['V0950'], 'V114': responsavel21['V0951'], 'V115': responsavel21['V0952'], 'V116': responsavel21['V0953'], 'V117': responsavel21['V0954'], 'V118': responsavel21['V0955'], 'V119': responsavel21['V0956']})"
   ]
  },
  {
   "cell_type": "code",
   "execution_count": 86,
   "metadata": {},
   "outputs": [],
   "source": [
    "responsavel01 = pd.DataFrame({'Cod_setor':responsavel1['Cod_setor'],'V002': responsavel1['V1139'],'V003': responsavel1['V1140'], 'V004': responsavel1['V1141'], 'V005': responsavel1['V1142'], 'V006': responsavel1['V1143'], 'V007': responsavel1['V1144'], 'V008': responsavel1['V1145'], 'V009': responsavel1['V1146'], 'V010': responsavel1['V1147'], 'V011': responsavel1['V1148'], 'V057': responsavel1['V1194'], 'V058': responsavel1['V1195'], 'V059': responsavel1['V1196'], 'V060': responsavel1['V1197'], 'V061': responsavel1['V1198'], 'V062': responsavel1['V1199'], 'V063': responsavel1['V1200'], 'V064': responsavel1['V1201'], 'V065': responsavel1['V1202'], 'V066': responsavel1['V1203'], 'V067': responsavel1['V1204'], 'V068': responsavel1['V1205'], 'V069': responsavel1['V1206'], 'V070': responsavel1['V1207'], 'V071': responsavel1['V1208'], 'V072': responsavel1['V1209'], 'V073': responsavel1['V1210'], 'V074': responsavel1['V1211'], 'V075': responsavel1['V1212'], 'V076': responsavel1['V1213'], 'V077': responsavel1['V1214'], 'V078': responsavel1['V1215'], 'V079': responsavel1['V1216'], 'V080': responsavel1['V1217'], 'V081': responsavel1['V1218'], 'V082': responsavel1['V1219'], 'V083': responsavel1['V1220'], 'V084': responsavel1['V1221'], 'V085': responsavel1['V1222'], 'V086': responsavel1['V1223'], 'V087': responsavel1['V1224'], 'V088': responsavel1['V1225'], 'V089': responsavel1['V1226'], 'V090': responsavel1['V1227'], 'V091': responsavel1['V1228'], 'V092': responsavel1['V1229'],'V093': responsavel1['V1245']})"
   ]
  },
  {
   "cell_type": "code",
   "execution_count": 87,
   "metadata": {},
   "outputs": [],
   "source": [
    "pessoa13 = pd.DataFrame({'Cod_setor': pessoa1['Cod_setor'],'V002': pessoa1['V1335'],'V022': pessoa1['V1347'],'V035': pessoa1['V1348'], 'V036': pessoa1['V1349'], 'V037': pessoa1['V1350'], 'V038': pessoa1['V1351'], 'V039': pessoa1['V1352'], 'V040': pessoa1['V1353'], 'V041': pessoa1['V1354'], 'V042': pessoa1['V1355'], 'V043': pessoa1['V1356'], 'V044': pessoa1['V1357'], 'V045': pessoa1['V1358'], 'V046': pessoa1['V1359'], 'V047': pessoa1['V1360'], 'V048': pessoa1['V1361'], 'V099': pessoa1['V1412'], 'V100': pessoa1['V1413'], 'V101': pessoa1['V1414'], 'V102': pessoa1['V1415'], 'V103': pessoa1['V1416'], 'V104': pessoa1['V1417'], 'V105': pessoa1['V1418'], 'V106': pessoa1['V1419'], 'V107': pessoa1['V1420'], 'V108': pessoa1['V1421'], 'V109': pessoa1['V1422'], 'V110': pessoa1['V1423'], 'V111': pessoa1['V1424'], 'V112': pessoa1['V1425'], 'V113': pessoa1['V1426'], 'V114': pessoa1['V1427'], 'V115': pessoa1['V1428'], 'V116': pessoa1['V1429'], 'V117': pessoa1['V1430'], 'V118': pessoa1['V1431'], 'V119': pessoa1['V1432'], 'V120': pessoa1['V1433'], 'V121': pessoa1['V1434'], 'V122': pessoa1['V1435'], 'V123': pessoa1['V1436'], 'V124': pessoa1['V1437'] , 'V125': pessoa1['V1438'], 'V126': pessoa1['V1439'], 'V127': pessoa1['V1440'], 'V128': pessoa1['V1441'], 'V129': pessoa1['V1442'], 'V130': pessoa1['V1443'], 'V131': pessoa1['V1444'], 'V132': pessoa1['V1445'], 'V133': pessoa1['V1446'], 'V134': pessoa1['V1447']})"
   ]
  },
  {
   "cell_type": "code",
   "execution_count": 88,
   "metadata": {},
   "outputs": [],
   "source": [
    "responsavelrenda = pd.DataFrame({'Cod_setor':responsavel2['Cod_setor'], 'V076': responsavel2['V0611'], 'V067': responsavel2['V0612'], 'V068': responsavel2['V0613'], 'V069': responsavel2['V0614'], 'V070': responsavel2['V0615']})"
   ]
  },
  {
   "cell_type": "code",
   "execution_count": 89,
   "metadata": {},
   "outputs": [],
   "source": [
    "domicilio01 = domicilio01.sort_index(axis=1)"
   ]
  },
  {
   "cell_type": "code",
   "execution_count": 90,
   "metadata": {},
   "outputs": [],
   "source": [
    "domicilio01.to_excel(\"dados_entrada\\Tabelas_2000\\Convertidas\\Domicilio_01_M.xlsx\",index=False)"
   ]
  },
  {
   "cell_type": "code",
   "execution_count": 91,
   "metadata": {},
   "outputs": [],
   "source": [
    "responsavel02 = responsavel02.sort_index(axis=1)"
   ]
  },
  {
   "cell_type": "code",
   "execution_count": 92,
   "metadata": {},
   "outputs": [],
   "source": [
    "responsavel02.to_excel(\"dados_entrada\\Tabelas_2000\\Convertidas\\Responsavel02_PE_M.xlsx\",index=False)"
   ]
  },
  {
   "cell_type": "code",
   "execution_count": 93,
   "metadata": {},
   "outputs": [],
   "source": [
    "pessoa13 = pessoa13.sort_index(axis=1)"
   ]
  },
  {
   "cell_type": "code",
   "execution_count": 94,
   "metadata": {},
   "outputs": [],
   "source": [
    "pessoa13.to_excel(\"dados_entrada\\Tabelas_2000\\Convertidas\\Pessoas13_PE_M.xlsx\",index=False)"
   ]
  },
  {
   "cell_type": "code",
   "execution_count": 95,
   "metadata": {},
   "outputs": [],
   "source": [
    "responsavel01 = responsavel01.sort_index(axis=1)"
   ]
  },
  {
   "cell_type": "code",
   "execution_count": 96,
   "metadata": {},
   "outputs": [],
   "source": [
    "responsavel01.to_excel(\"dados_entrada\\Tabelas_2000\\Convertidas\\Responsavel01_PE_M.xlsx\",index=False)"
   ]
  },
  {
   "cell_type": "code",
   "execution_count": 97,
   "metadata": {},
   "outputs": [],
   "source": [
    "responsavelrenda = responsavelrenda.sort_index(axis=1)"
   ]
  },
  {
   "cell_type": "code",
   "execution_count": 98,
   "metadata": {},
   "outputs": [],
   "source": [
    "responsavelrenda.to_excel(\"dados_entrada\\Tabelas_2000\\Convertidas\\ResponsavelRenda_PE_M.xlsx\",index=False)"
   ]
  },
  {
   "cell_type": "code",
   "execution_count": null,
   "metadata": {},
   "outputs": [],
   "source": []
  }
 ],
 "metadata": {
  "kernelspec": {
   "display_name": "Python 3",
   "language": "python",
   "name": "python3"
  },
  "language_info": {
   "codemirror_mode": {
    "name": "ipython",
    "version": 3
   },
   "file_extension": ".py",
   "mimetype": "text/x-python",
   "name": "python",
   "nbconvert_exporter": "python",
   "pygments_lexer": "ipython3",
   "version": "3.7.6"
  }
 },
 "nbformat": 4,
 "nbformat_minor": 4
}
