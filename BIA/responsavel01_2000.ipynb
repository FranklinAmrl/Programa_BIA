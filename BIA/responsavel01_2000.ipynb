{
 "cells": [
  {
   "cell_type": "code",
   "execution_count": 17,
   "metadata": {},
   "outputs": [],
   "source": [
    "import pandas as pd"
   ]
  },
  {
   "cell_type": "code",
   "execution_count": 18,
   "metadata": {},
   "outputs": [],
   "source": [
    "import numpy as pn"
   ]
  },
  {
   "cell_type": "code",
   "execution_count": 19,
   "metadata": {},
   "outputs": [],
   "source": [
    "responsavel01 = pd.read_excel(\"dados_entrada\\Tabelas_2000\\Convertidas\\Responsavel01_PE_M.xlsx\")"
   ]
  },
  {
   "cell_type": "code",
   "execution_count": 20,
   "metadata": {},
   "outputs": [],
   "source": [
    "responsavel02 = pd.read_excel(\"dados_entrada\\Tabelas_2000\\Convertidas\\Responsavel02_PE_M.xlsx\",index=False)"
   ]
  },
  {
   "cell_type": "code",
   "execution_count": 21,
   "metadata": {},
   "outputs": [],
   "source": [
    "variaveisres02 = pd.DataFrame({'V001_02': responsavel02['V001'],'V110_02': responsavel02['V110'],'V111_02': responsavel02['V111'],'V112_02': responsavel02['V112'],'V113_02': responsavel02['V113'],'V114_02': responsavel02['V114'],'V115_02': responsavel02['V115'],'V116_02': responsavel02['V116'],'V117_02': responsavel02['V117'],'V118_02': responsavel02['V118'],'V119_02': responsavel02['V119']})"
   ]
  },
  {
   "cell_type": "code",
   "execution_count": 22,
   "metadata": {},
   "outputs": [],
   "source": [
    "resultado = pd.read_excel(\"dados_entrada\\Tabelas_2000\\Convertidas\\Responsavel02_PE_M.xlsx\",index=False)"
   ]
  },
  {
   "cell_type": "code",
   "execution_count": 23,
   "metadata": {},
   "outputs": [],
   "source": [
    "responsavel01 = pd.concat([responsavel01, variaveisres02], axis=1)"
   ]
  },
  {
   "cell_type": "code",
   "execution_count": 24,
   "metadata": {},
   "outputs": [],
   "source": [
    "def V11(V002, V003, V004, V005, V006, V007, V008, V009, V010, V011, V001):\n",
    "    return (((V002+V003+V004+V005+V006+V007+V008+V009+V010+V011)/V001)*100)"
   ]
  },
  {
   "cell_type": "code",
   "execution_count": 25,
   "metadata": {},
   "outputs": [],
   "source": [
    "def V12(V057, V058, V059, V060, V061, V062, V063, V064, V065, V066, V067, V068, V069, V070, V071, V072, V073, V074, V075, V076, V077, V078, V079, V080, V081, V082, V083, V084, V085, V086, V087, V088, V089, V090, V091, V092, V001):\n",
    "    return (((V057+V058+V059+V060+V061+V062+V063+V064+V065+V066+V067+V068+V069+V070+V071+V072+V073+V074+V075+V076+V077+V078+V079+V080+V081+V082+V083+V084+V085+V086+V087+V088+V089+V090+V091+V092)/V001)*100)"
   ]
  },
  {
   "cell_type": "code",
   "execution_count": 29,
   "metadata": {
    "scrolled": true
   },
   "outputs": [],
   "source": [
    "resultado['V11'] = responsavel01.apply(lambda x: V11(x.V002,x.V003, x.V004, x.V005, x.V006, x.V007, x.V008,x.V009, x.V010, x.V011, x.V001_02), axis=1)"
   ]
  },
  {
   "cell_type": "code",
   "execution_count": 30,
   "metadata": {},
   "outputs": [],
   "source": [
    "resultado['V12'] = responsavel01.apply(lambda x: V12(x.V057, x.V058, x.V059, x.V060, x.V061, x.V062, x.V063, x.V064, x.V065, x.V066, x.V067, x.V068, x.V069, x.V070, x.V071, x.V072, x.V073, x.V074, x.V075, x.V076, x.V077, x.V078, x.V079, x.V080, x.V081, x.V082, x.V083, x.V084, x.V085, x.V086, x.V087, x.V088, x.V089, x.V090, x.V091, x.V092, x.V001_02), axis=1)"
   ]
  },
  {
   "cell_type": "code",
   "execution_count": 34,
   "metadata": {},
   "outputs": [],
   "source": [
    "resultado.to_excel(\"dados_saida\\Resultado_2000\\excel\\ResultadoGeral.xlsx\",index=False)"
   ]
  },
  {
   "cell_type": "code",
   "execution_count": 35,
   "metadata": {},
   "outputs": [],
   "source": [
    "resultado.to_csv(\"dados_saida\\Resultado_2000\\csv\\ResultadoGeral.csv\",index=False)"
   ]
  },
  {
   "cell_type": "code",
   "execution_count": null,
   "metadata": {},
   "outputs": [],
   "source": []
  }
 ],
 "metadata": {
  "kernelspec": {
   "display_name": "Python 3",
   "language": "python",
   "name": "python3"
  },
  "language_info": {
   "codemirror_mode": {
    "name": "ipython",
    "version": 3
   },
   "file_extension": ".py",
   "mimetype": "text/x-python",
   "name": "python",
   "nbconvert_exporter": "python",
   "pygments_lexer": "ipython3",
   "version": "3.7.6"
  }
 },
 "nbformat": 4,
 "nbformat_minor": 4
}
